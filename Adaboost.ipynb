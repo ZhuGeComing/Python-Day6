{
 "cells": [
  {
   "cell_type": "code",
   "execution_count": 1,
   "metadata": {
    "collapsed": true
   },
   "outputs": [],
   "source": [
    "from sklearn.metrics import auc, roc_curve"
   ]
  },
  {
   "cell_type": "code",
   "execution_count": 7,
   "metadata": {
    "collapsed": true
   },
   "outputs": [],
   "source": [
    "actual = [1,1,1,0,0,0]  \n",
    "predictions = [0.9,0.9,0.1,0.1,0.1,0.1] "
   ]
  },
  {
   "cell_type": "code",
   "execution_count": 11,
   "metadata": {},
   "outputs": [
    {
     "data": {
      "text/plain": [
       "array([0.9, 0.1])"
      ]
     },
     "execution_count": 11,
     "metadata": {},
     "output_type": "execute_result"
    }
   ],
   "source": [
    "fp, tp, thresholds = roc_curve(actual, predictions)\n",
    "roc_auc = auc(fp, tp)\n",
    "thresholds"
   ]
  },
  {
   "cell_type": "code",
   "execution_count": 16,
   "metadata": {},
   "outputs": [
    {
     "data": {
      "image/png": "[encoded data removed]",
      "text/plain": [
       "<Figure size 432x288 with 1 Axes>"
      ]
     },
     "metadata": {},
     "output_type": "display_data"
    }
   ],
   "source": [
    "import matplotlib.pyplot as plt\n",
    "plt.plot(fp, tp, 'y')\n",
    "plt.plot([0,1],[0,1],'r--') \n",
    "plt.show()"
   ]
  },
  {
   "cell_type": "code",
   "execution_count": 50,
   "metadata": {},
   "outputs": [
    {
     "name": "stdout",
     "output_type": "stream",
     "text": [
      "1 0\n",
      "11 0.72\n",
      "21 0.7733333333333333\n",
      "31 0.7733333333333333\n",
      "41 0.7866666666666666\n",
      "51 0.7866666666666666\n",
      "61 0.7866666666666666\n",
      "71 0.7866666666666666\n",
      "81 0.7866666666666666\n",
      "91 0.7866666666666666\n",
      "101 0.7866666666666666\n",
      "111 0.7866666666666666\n",
      "121 0.7866666666666666\n",
      "131 0.7866666666666666\n",
      "141 0.7866666666666666\n",
      "151 0.7866666666666666\n",
      "161 0.7866666666666666\n",
      "171 0.7866666666666666\n",
      "181 0.7866666666666666\n",
      "191 0.7866666666666666\n"
     ]
    },
    {
     "data": {
      "text/plain": [
       "(0.7866666666666666, 31)"
      ]
     },
     "execution_count": 50,
     "metadata": {},
     "output_type": "execute_result"
    }
   ],
   "source": [
    "from sklearn.ensemble import AdaBoostClassifier\n",
    "from sklearn.cross_validation import train_test_split\n",
    "import pandas as pd\n",
    "import numpy as np\n",
    "\n",
    "data = pd.read_csv('horseColicTraining2.txt', delimiter='\\t', header=None)\n",
    "train, test = train_test_split(data)\n",
    "accuracy = 0\n",
    "num = 0\n",
    "for i in np.arange(1, 201, 10):\n",
    "    print(i, accuracy)\n",
    "    clf = AdaBoostClassifier(n_estimators=i)\n",
    "    clf.fit(train.iloc[:, :-1], train.iloc[:, -1])\n",
    "    if accuracy < clf.score(test.iloc[:, :-1], test.iloc[:, -1]):\n",
    "        accuracy = clf.score(test.iloc[:, :-1], test.iloc[:, -1])\n",
    "        num = i\n",
    "accuracy, num"
   ]
  }
 ],
 "metadata": {
  "anaconda-cloud": {},
  "kernelspec": {
   "display_name": "Python [conda root]",
   "language": "python",
   "name": "conda-root-py"
  },
  "language_info": {
   "codemirror_mode": {
    "name": "ipython",
    "version": 3
   },
   "file_extension": ".py",
   "mimetype": "text/x-python",
   "name": "python",
   "nbconvert_exporter": "python",
   "pygments_lexer": "ipython3",
   "version": "3.5.5"
  }
 },
 "nbformat": 4,
 "nbformat_minor": 1
}
